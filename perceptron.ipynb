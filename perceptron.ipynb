{
  "nbformat": 4,
  "nbformat_minor": 0,
  "metadata": {
    "colab": {
      "name": "Untitled2.ipynb",
      "provenance": [],
      "include_colab_link": true
    },
    "kernelspec": {
      "name": "python3",
      "display_name": "Python 3"
    }
  },
  "cells": [
    {
      "cell_type": "markdown",
      "metadata": {
        "id": "view-in-github",
        "colab_type": "text"
      },
      "source": [
        "<a href=\"https://colab.research.google.com/github/maplerivertree/notes-9781787125933/blob/master/perceptron.ipynb\" target=\"_parent\"><img src=\"https://colab.research.google.com/assets/colab-badge.svg\" alt=\"Open In Colab\"/></a>"
      ]
    },
    {
      "cell_type": "code",
      "metadata": {
        "id": "Icca2w8ZMH-Z",
        "colab_type": "code",
        "outputId": "f0e3484c-1a4b-4cb8-f445-6c0b22ee1425",
        "colab": {
          "base_uri": "https://localhost:8080/",
          "height": 173
        }
      },
      "source": [
        "import pandas as pd\n",
        "df = pd.read_csv('https://archive.ics.uci.edu/ml/'\n",
        "                'machine-learning-databases/iris/iris.data', header = None)\n",
        "df[0:4]"
      ],
      "execution_count": 40,
      "outputs": [
        {
          "output_type": "execute_result",
          "data": {
            "text/html": [
              "<div>\n",
              "<style scoped>\n",
              "    .dataframe tbody tr th:only-of-type {\n",
              "        vertical-align: middle;\n",
              "    }\n",
              "\n",
              "    .dataframe tbody tr th {\n",
              "        vertical-align: top;\n",
              "    }\n",
              "\n",
              "    .dataframe thead th {\n",
              "        text-align: right;\n",
              "    }\n",
              "</style>\n",
              "<table border=\"1\" class=\"dataframe\">\n",
              "  <thead>\n",
              "    <tr style=\"text-align: right;\">\n",
              "      <th></th>\n",
              "      <th>0</th>\n",
              "      <th>1</th>\n",
              "      <th>2</th>\n",
              "      <th>3</th>\n",
              "      <th>4</th>\n",
              "    </tr>\n",
              "  </thead>\n",
              "  <tbody>\n",
              "    <tr>\n",
              "      <th>0</th>\n",
              "      <td>5.1</td>\n",
              "      <td>3.5</td>\n",
              "      <td>1.4</td>\n",
              "      <td>0.2</td>\n",
              "      <td>Iris-setosa</td>\n",
              "    </tr>\n",
              "    <tr>\n",
              "      <th>1</th>\n",
              "      <td>4.9</td>\n",
              "      <td>3.0</td>\n",
              "      <td>1.4</td>\n",
              "      <td>0.2</td>\n",
              "      <td>Iris-setosa</td>\n",
              "    </tr>\n",
              "    <tr>\n",
              "      <th>2</th>\n",
              "      <td>4.7</td>\n",
              "      <td>3.2</td>\n",
              "      <td>1.3</td>\n",
              "      <td>0.2</td>\n",
              "      <td>Iris-setosa</td>\n",
              "    </tr>\n",
              "    <tr>\n",
              "      <th>3</th>\n",
              "      <td>4.6</td>\n",
              "      <td>3.1</td>\n",
              "      <td>1.5</td>\n",
              "      <td>0.2</td>\n",
              "      <td>Iris-setosa</td>\n",
              "    </tr>\n",
              "  </tbody>\n",
              "</table>\n",
              "</div>"
            ],
            "text/plain": [
              "     0    1    2    3            4\n",
              "0  5.1  3.5  1.4  0.2  Iris-setosa\n",
              "1  4.9  3.0  1.4  0.2  Iris-setosa\n",
              "2  4.7  3.2  1.3  0.2  Iris-setosa\n",
              "3  4.6  3.1  1.5  0.2  Iris-setosa"
            ]
          },
          "metadata": {
            "tags": []
          },
          "execution_count": 40
        }
      ]
    },
    {
      "cell_type": "code",
      "metadata": {
        "id": "O2hXkZHlMafw",
        "colab_type": "code",
        "colab": {}
      },
      "source": [
        "#------------------------\n",
        "import numpy as np\n",
        "\n",
        "class Perceptron(object):\n",
        "    \"\"\"Perceptron classifier\n",
        "    \n",
        "    Parameters\n",
        "    ---------\n",
        "    eta : float\n",
        "        Learning rate  (0-1)\n",
        "    n_iter: interations\n",
        "        passes over the training datasets\n",
        "    random_state: int\n",
        "        Random number generator seed for ranom weight\n",
        "        initialization\n",
        "        \n",
        "    Attributes\n",
        "    ---------\n",
        "    w_ : 1d-array\n",
        "        wdights after fitting\n",
        "    errors_ : list\n",
        "        number of misclassifications (updates) in each epoch\n",
        "    \"\"\"\n",
        "\n",
        "    def __init__(self, eta = 0.01, n_iter = 50, random_state = 821150):\n",
        "        self.eta = eta\n",
        "        self.n_iter = n_iter\n",
        "        self.random_state = random_state\n",
        "    \n",
        "    def fit(self, X, y):\n",
        "        \"\"\"Fit training data\n",
        "        \n",
        "        Parameters\n",
        "        ----------\n",
        "        \n",
        "        X: {array-like}, shape = [n_samples, n_features]\n",
        "        \n",
        "        y: {array-like}, shape = [n_samples]\n",
        "            target values\n",
        "            \n",
        "        Returns:\n",
        "        -----------\n",
        "        self: object\n",
        "        \n",
        "        \"\"\"\n",
        "        \n",
        "        rgen = np.random.RandomState(self.random_state)\n",
        "        self.w_ = rgen.normal(loc = 0.0, scale=  0.01, size = 1 + X.shape[1])\n",
        "        #https://docs.scipy.org/doc/numpy-1.16.0/reference/generated/numpy.random.RandomState.normal.html#numpy.random.RandomState.normal\n",
        "        \n",
        "        self.errors_ = []\n",
        "        \n",
        "        for _ in range(self.n_iter):\n",
        "            errors = 0\n",
        "            for xi, target in zip(X, y):\n",
        "                update = self.eta * (target - self.predict(xi))\n",
        "                self.w_[1:] += update*xi\n",
        "                self.w_[0] += update\n",
        "                # self.w_[0] is inserted as the bias units (additional feature/column)\n",
        "                errors += int(update !=0.0)\n",
        "            self.errors_.append(errors)\n",
        "        return self\n",
        "    \n",
        "    def net_input(self, X):\n",
        "        return np.dot(X, self.w_[1:] ) + self.w_[0]\n",
        "\n",
        "    def predict(self, X):\n",
        "        return np.where(self.net_input(X) >= 0.0, 1, -1)\n",
        "        #https://docs.scipy.org/doc/numpy/reference/generated/numpy.where.html\n",
        "        "
      ],
      "execution_count": 0,
      "outputs": []
    },
    {
      "cell_type": "code",
      "metadata": {
        "id": "wBC7Ey51Olgq",
        "colab_type": "code",
        "outputId": "66bbc90d-bebe-4e80-8c6f-6c97a89479e9",
        "colab": {
          "base_uri": "https://localhost:8080/",
          "height": 558
        }
      },
      "source": [
        "import matplotlib.pyplot as plt\n",
        "import numpy as np\n",
        "\n",
        "y = df.iloc[0:100, 4].values\n",
        "y = np.where(y == 'Iris-setosa', -1, 1)\n",
        "X = df.iloc[0:100, [0, 2]].values\n",
        "plt.scatter(X[:50, 0], X[:50, 1], color = 'red', marker = 'o', label ='setosa')\n",
        "plt.scatter(X[50:100, 0], X[50:100, 1], color = 'blue', marker = 'x', label ='vericolor')\n",
        "plt.xlabel('sepal length')\n",
        "plt.ylabel('petal length')\n",
        "plt.legend(loc = 'lower right')\n",
        "plt.show()\n",
        "\n",
        "ppn = Perceptron(eta = 0.1, n_iter=10)\n",
        "ppn.fit(X, y)\n",
        "plt.plot(range(1, len(ppn.errors_) + 1), \n",
        "         ppn.errors_, marker = 'o')\n",
        "plt.xlabel('epochs')\n",
        "plt.ylabel('number of udpates')\n",
        "plt.show"
      ],
      "execution_count": 42,
      "outputs": [
        {
          "output_type": "display_data",
          "data": {
            "image/png": "[encoded data removed]",
            "text/plain": [
              "<Figure size 432x288 with 1 Axes>"
            ]
          },
          "metadata": {
            "tags": []
          }
        },
        {
          "output_type": "execute_result",
          "data": {
            "text/plain": [
              "<function matplotlib.pyplot.show>"
            ]
          },
          "metadata": {
            "tags": []
          },
          "execution_count": 42
        },
        {
          "output_type": "display_data",
          "data": {
            "image/png": "[encoded data removed]",
            "text/plain": [
              "<Figure size 432x288 with 1 Axes>"
            ]
          },
          "metadata": {
            "tags": []
          }
        }
      ]
    },
    {
      "cell_type": "code",
      "metadata": {
        "id": "RNPpurHPPpUC",
        "colab_type": "code",
        "colab": {
          "base_uri": "https://localhost:8080/",
          "height": 280
        },
        "outputId": "d8282cfe-ec79-47a5-f47b-71489075bbd1"
      },
      "source": [
        "from matplotlib.colors import ListedColormap\n",
        "\n",
        "def plot_decision_regions(X, y, classifier, resolution = 0.02):\n",
        "\n",
        "  markers = ('s', 'x', 'o', '^', 'v')\n",
        "  colors = ('red', 'blue', 'lightgreen', 'gray', 'cyan')\n",
        "  cmap = ListedColormap(colors[:len(np.unique(y))])\n",
        "\n",
        "  x1_min, x1_max = X[:,0].min() - 1, X[:, 0].max() +1\n",
        "  x2_min, x2_max = X[:,1].min() -1, X[:, 1].max() +1\n",
        "  xx1, xx2 = np.meshgrid(np.arange(x1_min, x1_max, resolution), np.arange(x2_min, x2_max, resolution))\n",
        "  z = classifier.predict(np.array(np.array([xx1.ravel(), xx2.ravel()]).T))\n",
        "  z = z.reshape(xx1.shape)\n",
        "  plt.contourf(xx1, xx2, z, alpha = 0.3, cmap = cmap)\n",
        "  plt.xlim(xx1.min(), xx1.max())\n",
        "  plt.ylim(xx2.min(), xx2.max())\n",
        "\n",
        "  for idx, cl in enumerate(np.unique(y)):\n",
        "    plt.scatter(x=X[y == cl, 0], \n",
        "                y=X[y == cl, 1],\n",
        "                alpha= 0.8,\n",
        "                c =colors[idx], \n",
        "                marker = markers[idx],\n",
        "                label = cl, \n",
        "                edgecolor = 'black')\n",
        "\n",
        "\n",
        "plot_decision_regions(X, y, classifier = ppn)\n",
        "plt.xlabel('sepal length')\n",
        "plt.ylabel('petal length')\n",
        "plt.legend(loc = 'lower right')\n",
        "plt.show()"
      ],
      "execution_count": 56,
      "outputs": [
        {
          "output_type": "display_data",
          "data": {
            "image/png": "[encoded data removed]",
            "text/plain": [
              "<Figure size 432x288 with 1 Axes>"
            ]
          },
          "metadata": {
            "tags": []
          }
        }
      ]
    }
  ]
}