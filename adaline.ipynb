{
  "nbformat": 4,
  "nbformat_minor": 0,
  "metadata": {
    "colab": {
      "name": "Untitled1.ipynb",
      "provenance": [],
      "include_colab_link": true
    },
    "kernelspec": {
      "name": "python3",
      "display_name": "Python 3"
    }
  },
  "cells": [
    {
      "cell_type": "markdown",
      "metadata": {
        "id": "view-in-github",
        "colab_type": "text"
      },
      "source": [
        "<a href=\"https://colab.research.google.com/github/maplerivertree/notes-9781787125933/blob/master/adaline.ipynb\" target=\"_parent\"><img src=\"https://colab.research.google.com/assets/colab-badge.svg\" alt=\"Open In Colab\"/></a>"
      ]
    },
    {
      "cell_type": "code",
      "metadata": {
        "id": "b-W8U6juIk9C",
        "colab_type": "code",
        "colab": {}
      },
      "source": [
        "class AdalineGD(object):\n",
        "  \"\"\"Adaptive Linear Neuron classifier\n",
        "\n",
        "  attributes:\n",
        "  --------\n",
        "  cost_ : list\n",
        "    sum-of-squares cost function value in each epoch.\n",
        "\n",
        "  \"\"\"\n",
        "  def __init__(self, eta = 0.01, n_iter = 50, random_state = 821150):\n",
        "    self.eta = eta\n",
        "    self.n_iter = n_iter\n",
        "    self.random_state = random_state\n",
        "  \n",
        "  def fit(self, X, y):\n",
        "\n",
        "    rgen = np.random.RandomState(self.random_state)\n",
        "    self.w_ = rgen.normal(loc = 0.0, scale = 0.01, size = 1 + X.shape[1])\n",
        "    self.cost_ = []\n",
        "\n",
        "    for i in range(self.n_iter):\n",
        "      net_input = self.net_input(X)\n",
        "      output = self.activation(net_input)\n",
        "      errors = y - output\n",
        "      self.w_[1:] += self.eta * X.T.dot(errors)\n",
        "      self.w_[0] += self.eta * errors.sum()\n",
        "      cost = (errors**2).sum() /2\n",
        "      self.cost_.append(cost)\n",
        "    return self\n",
        "\n",
        "  def net_input(self, X):\n",
        "    return np.dot(X, self.w_[1:]) + self.w_[0]\n",
        "  \n",
        "  def activation(self, X):\n",
        "    return X\n",
        "  \n",
        "  def predict(self, X):\n",
        "    return np.where(self.activation(self.net_input(X))>= 0.0, 1, -1)"
      ],
      "execution_count": 0,
      "outputs": []
    },
    {
      "cell_type": "code",
      "metadata": {
        "id": "rbtELCcqkZdI",
        "colab_type": "code",
        "colab": {}
      },
      "source": [
        "import pandas as pd\n",
        "df = pd.read_csv('https://archive.ics.uci.edu/ml/'\n",
        "                'machine-learning-databases/iris/iris.data', header = None)\n",
        "import numpy as np\n",
        "\n",
        "y = df.iloc[0:100, 4].values\n",
        "y = np.where(y == 'Iris-setosa', -1, 1)\n",
        "X = df.iloc[0:100, [0, 2]].values"
      ],
      "execution_count": 0,
      "outputs": []
    },
    {
      "cell_type": "code",
      "metadata": {
        "id": "BUS1gKpXVMQj",
        "colab_type": "code",
        "colab": {
          "base_uri": "https://localhost:8080/",
          "height": 295
        },
        "outputId": "607086d1-0dc3-469a-8797-cc164e5f01e4"
      },
      "source": [
        "import matplotlib.pyplot as plt\n",
        "fig, ax = plt.subplots(nrows=1, ncols=2, figsize=(10,4))\n",
        "\n",
        "ada1 = AdalineGD(n_iter=10, eta = 0.01).fit(X, y)\n",
        "ax[0].plot(range(1, len(ada1.cost_) +1), np.log10(ada1.cost_), marker = 'o')\n",
        "ax[0].set_xlabel('epochs')\n",
        "ax[0].set_ylabel('log(sum-squared-error)')\n",
        "\n",
        "ax[0].set_title('adaline - eta - learning rate = 0.01')\n",
        "\n",
        "ada2= AdalineGD(n_iter=10, eta = 0.001).fit(X,y)\n",
        "ax[1].plot(range(1, len(ada2.cost_) +1),\n",
        "           ada2.cost_, marker = 'o')\n",
        "ax[1].set_xlabel('epochs')\n",
        "ax[1].set_ylabel('sum-saured_erros')\n",
        "ax[1].set_title('Adaline - eta - learning rate 0.001')\n",
        "plt.show()"
      ],
      "execution_count": 13,
      "outputs": [
        {
          "output_type": "display_data",
          "data": {
            "image/png": "[encoded data removed]",
            "text/plain": [
              "<Figure size 720x288 with 2 Axes>"
            ]
          },
          "metadata": {
            "tags": []
          }
        }
      ]
    },
    {
      "cell_type": "code",
      "metadata": {
        "id": "F3_Ku8hpj0JC",
        "colab_type": "code",
        "colab": {}
      },
      "source": [
        ""
      ],
      "execution_count": 0,
      "outputs": []
    }
  ]
}