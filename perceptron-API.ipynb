{
  "nbformat": 4,
  "nbformat_minor": 0,
  "metadata": {
    "colab": {
      "name": "Untitled1.ipynb",
      "provenance": [],
      "include_colab_link": true
    },
    "kernelspec": {
      "name": "python3",
      "display_name": "Python 3"
    }
  },
  "cells": [
    {
      "cell_type": "markdown",
      "metadata": {
        "id": "view-in-github",
        "colab_type": "text"
      },
      "source": [
        "<a href=\"https://colab.research.google.com/github/maplerivertree/notes-9781787125933/blob/master/perceptron-API.ipynb\" target=\"_parent\"><img src=\"https://colab.research.google.com/assets/colab-badge.svg\" alt=\"Open In Colab\"/></a>"
      ]
    },
    {
      "cell_type": "code",
      "metadata": {
        "id": "b-W8U6juIk9C",
        "colab_type": "code",
        "colab": {}
      },
      "source": [
        "import numpy as np\n",
        "\n",
        "class Perceptron(object):\n",
        "    \"\"\"Perceptron classifier\n",
        "    \n",
        "    Parameters\n",
        "    ---------\n",
        "    eta : float\n",
        "        Learning rate  (0-1)\n",
        "    n_iter: interations\n",
        "        passes over the training datasets\n",
        "    random_state: int\n",
        "        Random number generator seed for ranom weight\n",
        "        initialization\n",
        "        \n",
        "    Attributes\n",
        "    ---------\n",
        "    w_ : 1d-array\n",
        "        wdights after fitting\n",
        "    errors_ : list\n",
        "        number of misclassifications (updates) in each epoch\n",
        "    \"\"\"\n",
        "\n",
        "    def __init__(self, eta = 0.01, n_iter = 50, random_state = 1):\n",
        "        self.eta = eta\n",
        "        self.n_iter = n_iter\n",
        "        self.random_state = random_state\n",
        "    \n",
        "    def fit(self, X, y)\"\n",
        "        \"\"\"Fit training data\n",
        "        \n",
        "        Parameters\n",
        "        ----------\n",
        "        \n",
        "        X: {array-like}, shape = [n_samples, n_features]\n",
        "        \n",
        "        y: {array-like}, shape = [n_samples]\n",
        "            target values\n",
        "            \n",
        "        Returns:\n",
        "        -----------\n",
        "        self: object\n",
        "        \n",
        "        \"\"\"\n",
        "        \n",
        "        rgen = np.randomRandomState(self.random_state)\n",
        "        self.w_ = rgen.normal(loc = 0.0, scale=  0.01, size = 1 + X.shape[1])\n",
        "        #https://docs.scipy.org/doc/numpy-1.16.0/reference/generated/numpy.random.RandomState.normal.html#numpy.random.RandomState.normal\n",
        "        \n",
        "        self.erros_ = []\n",
        "        \n",
        "        for _ in range (self.n_iter):\n",
        "            errors = 0\n",
        "            for xi, target  in zip(X, y):\n",
        "                update = self.eta * (target - self.predict(xi))\n",
        "                self.w_[1:] += update*xi\n",
        "                self.w_[0] += update\n",
        "                # self.w_[0] is inserted as the bias units (additional feature/column)\n",
        "                errors += int(update !=0.0)\n",
        "            self.errors_.append(errors)\n",
        "        return self\n",
        "    \n",
        "    def net_input(self, X):\n",
        "        return np.dot(X, self.w_[1:] ) + self.w[0]\n",
        "    def predict (self, X):\n",
        "        return np.where(self.net_input(X) >= 0.0, 1 -1)\n",
        "        "
      ],
      "execution_count": 0,
      "outputs": []
    }
  ]
}